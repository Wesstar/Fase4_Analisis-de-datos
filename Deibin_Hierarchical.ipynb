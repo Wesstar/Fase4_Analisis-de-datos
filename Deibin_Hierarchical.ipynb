{
 "cells": [
  {
   "cell_type": "markdown",
   "id": "c12707a7-6e97-4241-a3d0-766754f7c0cd",
   "metadata": {},
   "source": [
    "Analisis de datos\n",
    "\n",
    "Tarea 4 - Algoritmos de Aprendizaje no Supervisado\n",
    "\n",
    "Presentado por:\n",
    "\n",
    "Deibin Andrey Rojas Tellez\n",
    "\n",
    "Grupo: 55\n",
    "\n",
    "Tutor: Sandra M. Patiño\n",
    "\n",
    "UNIVERSIDAD NACIONAL ABIERTA Y A DISTANCIA\n",
    "\n",
    "Noviembre - 2024"
   ]
  },
  {
   "cell_type": "markdown",
   "id": "f637af44-af36-4738-9aee-6cf577f75974",
   "metadata": {},
   "source": [
    "* Agrupamiento Hierarchical Clustering"
   ]
  },
  {
   "cell_type": "markdown",
   "id": "b81a1289-7d74-48b0-95ef-211b8d7cff4d",
   "metadata": {},
   "source": [
    "1. Realizar un análisis exploratorio de los datos para identificar \n",
    "relaciones entre variables, valores atípicos, tendencias, etc.  \n",
    "2. Preprocesar los datos limpiándolos, tratando valores faltantes y \n",
    "transformándolos según sea necesario.  \n",
    "3. Seleccionar las características más relevantes para entrenar el \n",
    "modelo utilizando selección de características. \n",
    "4. Entrenar el modelo configurando los diferentes \n",
    "hiperparámetros. \n",
    "5. Evaluar el desempeño del modelo con métricas como \n",
    "Coeficiente de Silhouette, Índice de Calinski-Harabasz, etc. \n",
    "6. Realizar las diferentes gráficas que permitan visualizar los \n",
    "resultados del modelo \n",
    "7. Interpretar, analizar y documentar los resultados obtenidos.  "
   ]
  },
  {
   "cell_type": "markdown",
   "id": "76917782-2d2c-46e3-9cee-183d4e1bbf4b",
   "metadata": {},
   "source": [
    "1. Realizar un análisis exploratorio de los datos para identificar relaciones entre variables, valores atípicos, tendencias, etc."
   ]
  },
  {
   "cell_type": "code",
   "execution_count": 6,
   "id": "6466539f-015f-4dce-8069-927831431313",
   "metadata": {},
   "outputs": [],
   "source": [
    "#Cargar las librerias necesarias\n",
    "\n",
    "import pandas as pd # Manejo y análisis de estructuras de datos\n",
    "import numpy as np # Cálculo numérico y el análisis de datos\n",
    "import seaborn as sns # Creación gráficos estadísticos\n",
    "import matplotlib.pyplot as plt # Creación de gráficos en dos dimensiones\n",
    "import plotly.graph_objs as go # Creación de gráficos en tres dimensiones\n",
    "import plotly.express as px # Creación de gráficos en tres dimensiones\n",
    "\n",
    "\n",
    "# librerías de para implementar modelo Kmeans\n",
    "from sklearn.cluster import AgglomerativeClustering #algoritmos de agrupamiento o clustering, dividir datos en grupos o clusters basados en su similitud.\n",
    "from sklearn.preprocessing import StandardScaler #escalar o normalizar los datos \n",
    "from scipy.cluster.hierarchy import linkage, dendrogram #herramientas para realizar agrupamiento jerárquico y visualización de dendrogramas.\n",
    "#dendrogram:  genera un gráfico de árbol \n",
    "\n",
    "# librerías de para evaluar el modelo\n",
    "from sklearn.metrics import silhouette_score, calinski_harabasz_score, davies_bouldin_score\n",
    "from datetime import datetime\n",
    "\n",
    "#Librería para evitar la advertencia de que el modelo tiene una pérdida de memoria en Windows \n",
    "import warnings\n",
    "warnings.filterwarnings('ignore')"
   ]
  },
  {
   "cell_type": "code",
   "execution_count": 8,
   "id": "d74e26d4-680f-4cb8-98ba-27cbd04e0a3d",
   "metadata": {},
   "outputs": [],
   "source": [
    "# Cargar el conjunto de datos en la variable data\n",
    "df = pd.read_csv('Mall_Customers.csv')"
   ]
  },
  {
   "cell_type": "code",
   "execution_count": 10,
   "id": "1879cb4c-38ee-4970-a496-a3cb8fe8a920",
   "metadata": {
    "scrolled": true
   },
   "outputs": [
    {
     "data": {
      "text/html": [
       "<div>\n",
       "<style scoped>\n",
       "    .dataframe tbody tr th:only-of-type {\n",
       "        vertical-align: middle;\n",
       "    }\n",
       "\n",
       "    .dataframe tbody tr th {\n",
       "        vertical-align: top;\n",
       "    }\n",
       "\n",
       "    .dataframe thead th {\n",
       "        text-align: right;\n",
       "    }\n",
       "</style>\n",
       "<table border=\"1\" class=\"dataframe\">\n",
       "  <thead>\n",
       "    <tr style=\"text-align: right;\">\n",
       "      <th></th>\n",
       "      <th>CustomerID</th>\n",
       "      <th>Gender</th>\n",
       "      <th>Age</th>\n",
       "      <th>Annual Income (k$)</th>\n",
       "      <th>Spending Score (1-100)</th>\n",
       "    </tr>\n",
       "  </thead>\n",
       "  <tbody>\n",
       "    <tr>\n",
       "      <th>0</th>\n",
       "      <td>1</td>\n",
       "      <td>Male</td>\n",
       "      <td>19</td>\n",
       "      <td>15</td>\n",
       "      <td>39</td>\n",
       "    </tr>\n",
       "    <tr>\n",
       "      <th>1</th>\n",
       "      <td>2</td>\n",
       "      <td>Male</td>\n",
       "      <td>21</td>\n",
       "      <td>15</td>\n",
       "      <td>81</td>\n",
       "    </tr>\n",
       "    <tr>\n",
       "      <th>2</th>\n",
       "      <td>3</td>\n",
       "      <td>Female</td>\n",
       "      <td>20</td>\n",
       "      <td>16</td>\n",
       "      <td>6</td>\n",
       "    </tr>\n",
       "    <tr>\n",
       "      <th>3</th>\n",
       "      <td>4</td>\n",
       "      <td>Female</td>\n",
       "      <td>23</td>\n",
       "      <td>16</td>\n",
       "      <td>77</td>\n",
       "    </tr>\n",
       "    <tr>\n",
       "      <th>4</th>\n",
       "      <td>5</td>\n",
       "      <td>Female</td>\n",
       "      <td>31</td>\n",
       "      <td>17</td>\n",
       "      <td>40</td>\n",
       "    </tr>\n",
       "    <tr>\n",
       "      <th>5</th>\n",
       "      <td>6</td>\n",
       "      <td>Female</td>\n",
       "      <td>22</td>\n",
       "      <td>17</td>\n",
       "      <td>76</td>\n",
       "    </tr>\n",
       "    <tr>\n",
       "      <th>6</th>\n",
       "      <td>7</td>\n",
       "      <td>Female</td>\n",
       "      <td>35</td>\n",
       "      <td>18</td>\n",
       "      <td>6</td>\n",
       "    </tr>\n",
       "    <tr>\n",
       "      <th>7</th>\n",
       "      <td>8</td>\n",
       "      <td>Female</td>\n",
       "      <td>23</td>\n",
       "      <td>18</td>\n",
       "      <td>94</td>\n",
       "    </tr>\n",
       "    <tr>\n",
       "      <th>8</th>\n",
       "      <td>9</td>\n",
       "      <td>Male</td>\n",
       "      <td>64</td>\n",
       "      <td>19</td>\n",
       "      <td>3</td>\n",
       "    </tr>\n",
       "    <tr>\n",
       "      <th>9</th>\n",
       "      <td>10</td>\n",
       "      <td>Female</td>\n",
       "      <td>30</td>\n",
       "      <td>19</td>\n",
       "      <td>72</td>\n",
       "    </tr>\n",
       "    <tr>\n",
       "      <th>10</th>\n",
       "      <td>11</td>\n",
       "      <td>Male</td>\n",
       "      <td>67</td>\n",
       "      <td>19</td>\n",
       "      <td>14</td>\n",
       "    </tr>\n",
       "    <tr>\n",
       "      <th>11</th>\n",
       "      <td>12</td>\n",
       "      <td>Female</td>\n",
       "      <td>35</td>\n",
       "      <td>19</td>\n",
       "      <td>99</td>\n",
       "    </tr>\n",
       "    <tr>\n",
       "      <th>12</th>\n",
       "      <td>13</td>\n",
       "      <td>Female</td>\n",
       "      <td>58</td>\n",
       "      <td>20</td>\n",
       "      <td>15</td>\n",
       "    </tr>\n",
       "    <tr>\n",
       "      <th>13</th>\n",
       "      <td>14</td>\n",
       "      <td>Female</td>\n",
       "      <td>24</td>\n",
       "      <td>20</td>\n",
       "      <td>77</td>\n",
       "    </tr>\n",
       "    <tr>\n",
       "      <th>14</th>\n",
       "      <td>15</td>\n",
       "      <td>Male</td>\n",
       "      <td>37</td>\n",
       "      <td>20</td>\n",
       "      <td>13</td>\n",
       "    </tr>\n",
       "    <tr>\n",
       "      <th>15</th>\n",
       "      <td>16</td>\n",
       "      <td>Male</td>\n",
       "      <td>22</td>\n",
       "      <td>20</td>\n",
       "      <td>79</td>\n",
       "    </tr>\n",
       "    <tr>\n",
       "      <th>16</th>\n",
       "      <td>17</td>\n",
       "      <td>Female</td>\n",
       "      <td>35</td>\n",
       "      <td>21</td>\n",
       "      <td>35</td>\n",
       "    </tr>\n",
       "    <tr>\n",
       "      <th>17</th>\n",
       "      <td>18</td>\n",
       "      <td>Male</td>\n",
       "      <td>20</td>\n",
       "      <td>21</td>\n",
       "      <td>66</td>\n",
       "    </tr>\n",
       "    <tr>\n",
       "      <th>18</th>\n",
       "      <td>19</td>\n",
       "      <td>Male</td>\n",
       "      <td>52</td>\n",
       "      <td>23</td>\n",
       "      <td>29</td>\n",
       "    </tr>\n",
       "    <tr>\n",
       "      <th>19</th>\n",
       "      <td>20</td>\n",
       "      <td>Female</td>\n",
       "      <td>35</td>\n",
       "      <td>23</td>\n",
       "      <td>98</td>\n",
       "    </tr>\n",
       "    <tr>\n",
       "      <th>20</th>\n",
       "      <td>21</td>\n",
       "      <td>Male</td>\n",
       "      <td>35</td>\n",
       "      <td>24</td>\n",
       "      <td>35</td>\n",
       "    </tr>\n",
       "    <tr>\n",
       "      <th>21</th>\n",
       "      <td>22</td>\n",
       "      <td>Male</td>\n",
       "      <td>25</td>\n",
       "      <td>24</td>\n",
       "      <td>73</td>\n",
       "    </tr>\n",
       "    <tr>\n",
       "      <th>22</th>\n",
       "      <td>23</td>\n",
       "      <td>Female</td>\n",
       "      <td>46</td>\n",
       "      <td>25</td>\n",
       "      <td>5</td>\n",
       "    </tr>\n",
       "    <tr>\n",
       "      <th>23</th>\n",
       "      <td>24</td>\n",
       "      <td>Male</td>\n",
       "      <td>31</td>\n",
       "      <td>25</td>\n",
       "      <td>73</td>\n",
       "    </tr>\n",
       "    <tr>\n",
       "      <th>24</th>\n",
       "      <td>25</td>\n",
       "      <td>Female</td>\n",
       "      <td>54</td>\n",
       "      <td>28</td>\n",
       "      <td>14</td>\n",
       "    </tr>\n",
       "    <tr>\n",
       "      <th>25</th>\n",
       "      <td>26</td>\n",
       "      <td>Male</td>\n",
       "      <td>29</td>\n",
       "      <td>28</td>\n",
       "      <td>82</td>\n",
       "    </tr>\n",
       "    <tr>\n",
       "      <th>26</th>\n",
       "      <td>27</td>\n",
       "      <td>Female</td>\n",
       "      <td>45</td>\n",
       "      <td>28</td>\n",
       "      <td>32</td>\n",
       "    </tr>\n",
       "    <tr>\n",
       "      <th>27</th>\n",
       "      <td>28</td>\n",
       "      <td>Male</td>\n",
       "      <td>35</td>\n",
       "      <td>28</td>\n",
       "      <td>61</td>\n",
       "    </tr>\n",
       "    <tr>\n",
       "      <th>28</th>\n",
       "      <td>29</td>\n",
       "      <td>Female</td>\n",
       "      <td>40</td>\n",
       "      <td>29</td>\n",
       "      <td>31</td>\n",
       "    </tr>\n",
       "    <tr>\n",
       "      <th>29</th>\n",
       "      <td>30</td>\n",
       "      <td>Female</td>\n",
       "      <td>23</td>\n",
       "      <td>29</td>\n",
       "      <td>87</td>\n",
       "    </tr>\n",
       "    <tr>\n",
       "      <th>30</th>\n",
       "      <td>31</td>\n",
       "      <td>Male</td>\n",
       "      <td>60</td>\n",
       "      <td>30</td>\n",
       "      <td>4</td>\n",
       "    </tr>\n",
       "    <tr>\n",
       "      <th>31</th>\n",
       "      <td>32</td>\n",
       "      <td>Female</td>\n",
       "      <td>21</td>\n",
       "      <td>30</td>\n",
       "      <td>73</td>\n",
       "    </tr>\n",
       "    <tr>\n",
       "      <th>32</th>\n",
       "      <td>33</td>\n",
       "      <td>Male</td>\n",
       "      <td>53</td>\n",
       "      <td>33</td>\n",
       "      <td>4</td>\n",
       "    </tr>\n",
       "    <tr>\n",
       "      <th>33</th>\n",
       "      <td>34</td>\n",
       "      <td>Male</td>\n",
       "      <td>18</td>\n",
       "      <td>33</td>\n",
       "      <td>92</td>\n",
       "    </tr>\n",
       "    <tr>\n",
       "      <th>34</th>\n",
       "      <td>35</td>\n",
       "      <td>Female</td>\n",
       "      <td>49</td>\n",
       "      <td>33</td>\n",
       "      <td>14</td>\n",
       "    </tr>\n",
       "    <tr>\n",
       "      <th>35</th>\n",
       "      <td>36</td>\n",
       "      <td>Female</td>\n",
       "      <td>21</td>\n",
       "      <td>33</td>\n",
       "      <td>81</td>\n",
       "    </tr>\n",
       "    <tr>\n",
       "      <th>36</th>\n",
       "      <td>37</td>\n",
       "      <td>Female</td>\n",
       "      <td>42</td>\n",
       "      <td>34</td>\n",
       "      <td>17</td>\n",
       "    </tr>\n",
       "    <tr>\n",
       "      <th>37</th>\n",
       "      <td>38</td>\n",
       "      <td>Female</td>\n",
       "      <td>30</td>\n",
       "      <td>34</td>\n",
       "      <td>73</td>\n",
       "    </tr>\n",
       "    <tr>\n",
       "      <th>38</th>\n",
       "      <td>39</td>\n",
       "      <td>Female</td>\n",
       "      <td>36</td>\n",
       "      <td>37</td>\n",
       "      <td>26</td>\n",
       "    </tr>\n",
       "    <tr>\n",
       "      <th>39</th>\n",
       "      <td>40</td>\n",
       "      <td>Female</td>\n",
       "      <td>20</td>\n",
       "      <td>37</td>\n",
       "      <td>75</td>\n",
       "    </tr>\n",
       "  </tbody>\n",
       "</table>\n",
       "</div>"
      ],
      "text/plain": [
       "    CustomerID  Gender  Age  Annual Income (k$)  Spending Score (1-100)\n",
       "0            1    Male   19                  15                      39\n",
       "1            2    Male   21                  15                      81\n",
       "2            3  Female   20                  16                       6\n",
       "3            4  Female   23                  16                      77\n",
       "4            5  Female   31                  17                      40\n",
       "5            6  Female   22                  17                      76\n",
       "6            7  Female   35                  18                       6\n",
       "7            8  Female   23                  18                      94\n",
       "8            9    Male   64                  19                       3\n",
       "9           10  Female   30                  19                      72\n",
       "10          11    Male   67                  19                      14\n",
       "11          12  Female   35                  19                      99\n",
       "12          13  Female   58                  20                      15\n",
       "13          14  Female   24                  20                      77\n",
       "14          15    Male   37                  20                      13\n",
       "15          16    Male   22                  20                      79\n",
       "16          17  Female   35                  21                      35\n",
       "17          18    Male   20                  21                      66\n",
       "18          19    Male   52                  23                      29\n",
       "19          20  Female   35                  23                      98\n",
       "20          21    Male   35                  24                      35\n",
       "21          22    Male   25                  24                      73\n",
       "22          23  Female   46                  25                       5\n",
       "23          24    Male   31                  25                      73\n",
       "24          25  Female   54                  28                      14\n",
       "25          26    Male   29                  28                      82\n",
       "26          27  Female   45                  28                      32\n",
       "27          28    Male   35                  28                      61\n",
       "28          29  Female   40                  29                      31\n",
       "29          30  Female   23                  29                      87\n",
       "30          31    Male   60                  30                       4\n",
       "31          32  Female   21                  30                      73\n",
       "32          33    Male   53                  33                       4\n",
       "33          34    Male   18                  33                      92\n",
       "34          35  Female   49                  33                      14\n",
       "35          36  Female   21                  33                      81\n",
       "36          37  Female   42                  34                      17\n",
       "37          38  Female   30                  34                      73\n",
       "38          39  Female   36                  37                      26\n",
       "39          40  Female   20                  37                      75"
      ]
     },
     "execution_count": 10,
     "metadata": {},
     "output_type": "execute_result"
    }
   ],
   "source": [
    "df.head(40)"
   ]
  },
  {
   "cell_type": "markdown",
   "id": "38c75731-b040-42b0-88a8-338e68387bc0",
   "metadata": {},
   "source": [
    "Objetivo: Identificar grupos de clientes con patrones similares en ingresos, edad y gasto."
   ]
  },
  {
   "cell_type": "markdown",
   "id": "18c2ff22-8bfa-4a76-b693-7b1741b2f98e",
   "metadata": {},
   "source": [
    "- CustomerID: Identificador único del cliente \n",
    "- Gender: Género del cliente \n",
    "- Age: Edad del cliente.\n",
    "- Annual Income (k$): Ingreso anual \n",
    "- Spending Score (1-100): Puntaje de gasto"
   ]
  },
  {
   "cell_type": "code",
   "execution_count": 12,
   "id": "c08e1083-3bf3-48a5-a46f-ddd9786131b5",
   "metadata": {},
   "outputs": [
    {
     "data": {
      "text/html": [
       "<div>\n",
       "<style scoped>\n",
       "    .dataframe tbody tr th:only-of-type {\n",
       "        vertical-align: middle;\n",
       "    }\n",
       "\n",
       "    .dataframe tbody tr th {\n",
       "        vertical-align: top;\n",
       "    }\n",
       "\n",
       "    .dataframe thead th {\n",
       "        text-align: right;\n",
       "    }\n",
       "</style>\n",
       "<table border=\"1\" class=\"dataframe\">\n",
       "  <thead>\n",
       "    <tr style=\"text-align: right;\">\n",
       "      <th></th>\n",
       "      <th>CustomerID</th>\n",
       "      <th>Age</th>\n",
       "      <th>Annual Income (k$)</th>\n",
       "      <th>Spending Score (1-100)</th>\n",
       "    </tr>\n",
       "  </thead>\n",
       "  <tbody>\n",
       "    <tr>\n",
       "      <th>count</th>\n",
       "      <td>200.000000</td>\n",
       "      <td>200.000000</td>\n",
       "      <td>200.000000</td>\n",
       "      <td>200.000000</td>\n",
       "    </tr>\n",
       "    <tr>\n",
       "      <th>mean</th>\n",
       "      <td>100.500000</td>\n",
       "      <td>38.850000</td>\n",
       "      <td>60.560000</td>\n",
       "      <td>50.200000</td>\n",
       "    </tr>\n",
       "    <tr>\n",
       "      <th>std</th>\n",
       "      <td>57.879185</td>\n",
       "      <td>13.969007</td>\n",
       "      <td>26.264721</td>\n",
       "      <td>25.823522</td>\n",
       "    </tr>\n",
       "    <tr>\n",
       "      <th>min</th>\n",
       "      <td>1.000000</td>\n",
       "      <td>18.000000</td>\n",
       "      <td>15.000000</td>\n",
       "      <td>1.000000</td>\n",
       "    </tr>\n",
       "    <tr>\n",
       "      <th>25%</th>\n",
       "      <td>50.750000</td>\n",
       "      <td>28.750000</td>\n",
       "      <td>41.500000</td>\n",
       "      <td>34.750000</td>\n",
       "    </tr>\n",
       "    <tr>\n",
       "      <th>50%</th>\n",
       "      <td>100.500000</td>\n",
       "      <td>36.000000</td>\n",
       "      <td>61.500000</td>\n",
       "      <td>50.000000</td>\n",
       "    </tr>\n",
       "    <tr>\n",
       "      <th>75%</th>\n",
       "      <td>150.250000</td>\n",
       "      <td>49.000000</td>\n",
       "      <td>78.000000</td>\n",
       "      <td>73.000000</td>\n",
       "    </tr>\n",
       "    <tr>\n",
       "      <th>max</th>\n",
       "      <td>200.000000</td>\n",
       "      <td>70.000000</td>\n",
       "      <td>137.000000</td>\n",
       "      <td>99.000000</td>\n",
       "    </tr>\n",
       "  </tbody>\n",
       "</table>\n",
       "</div>"
      ],
      "text/plain": [
       "       CustomerID         Age  Annual Income (k$)  Spending Score (1-100)\n",
       "count  200.000000  200.000000          200.000000              200.000000\n",
       "mean   100.500000   38.850000           60.560000               50.200000\n",
       "std     57.879185   13.969007           26.264721               25.823522\n",
       "min      1.000000   18.000000           15.000000                1.000000\n",
       "25%     50.750000   28.750000           41.500000               34.750000\n",
       "50%    100.500000   36.000000           61.500000               50.000000\n",
       "75%    150.250000   49.000000           78.000000               73.000000\n",
       "max    200.000000   70.000000          137.000000               99.000000"
      ]
     },
     "execution_count": 12,
     "metadata": {},
     "output_type": "execute_result"
    }
   ],
   "source": [
    "df.describe()"
   ]
  },
  {
   "cell_type": "code",
   "execution_count": 16,
   "id": "e30ba9f1-8d1b-4f50-ba40-5d8e0c2cef9f",
   "metadata": {},
   "outputs": [
    {
     "name": "stdout",
     "output_type": "stream",
     "text": [
      "<class 'pandas.core.frame.DataFrame'>\n",
      "RangeIndex: 200 entries, 0 to 199\n",
      "Data columns (total 5 columns):\n",
      " #   Column                  Non-Null Count  Dtype \n",
      "---  ------                  --------------  ----- \n",
      " 0   CustomerID              200 non-null    int64 \n",
      " 1   Gender                  200 non-null    object\n",
      " 2   Age                     200 non-null    int64 \n",
      " 3   Annual Income (k$)      200 non-null    int64 \n",
      " 4   Spending Score (1-100)  200 non-null    int64 \n",
      "dtypes: int64(4), object(1)\n",
      "memory usage: 7.9+ KB\n",
      "None\n"
     ]
    }
   ],
   "source": [
    "# Obtener información sobre el tipo de datos y el total de valores en cada columna\n",
    "print(df.info())"
   ]
  },
  {
   "cell_type": "code",
   "execution_count": 25,
   "id": "05fa75a7-3a75-48f7-877a-951aa10fc768",
   "metadata": {},
   "outputs": [
    {
     "data": {
      "text/plain": [
       "Text(0.5, 1.0, 'Identificación de Datos Faltantes y Atípicos')"
      ]
     },
     "execution_count": 25,
     "metadata": {},
     "output_type": "execute_result"
    },
    {
     "data": {
      "image/png": "[encoded data removed]",
      "text/plain": [
       "<Figure size 600x300 with 1 Axes>"
      ]
     },
     "metadata": {},
     "output_type": "display_data"
    }
   ],
   "source": [
    "#Identificación de Datos Faltantes y Atípicos\n",
    "\n",
    "plt.figure(figsize=(6, 3))\n",
    "sns.boxplot(x=df['Age'])\n",
    "plt.title('Identificación de Datos Faltantes y Atípicos', fontsize=10 )"
   ]
  },
  {
   "cell_type": "code",
   "execution_count": 27,
   "id": "b2d412b2-3e0b-454e-a1f6-7ddd1062f2f5",
   "metadata": {},
   "outputs": [
    {
     "data": {
      "text/plain": [
       "Text(0.5, 1.0, 'Identificación de Datos Faltantes y Atípicos')"
      ]
     },
     "execution_count": 27,
     "metadata": {},
     "output_type": "execute_result"
    },
    {
     "data": {
      "image/png": "[encoded data removed]",
      "text/plain": [
       "<Figure size 600x300 with 1 Axes>"
      ]
     },
     "metadata": {},
     "output_type": "display_data"
    }
   ],
   "source": [
    "plt.figure(figsize=(6, 3))\n",
    "sns.boxplot(x=df['Spending Score (1-100)'])\n",
    "plt.title('Identificación de Datos Faltantes y Atípicos', fontsize=10 )"
   ]
  },
  {
   "cell_type": "code",
   "execution_count": 29,
   "id": "67629efa-62b5-43fb-9555-f9ad2d954fbc",
   "metadata": {},
   "outputs": [
    {
     "data": {
      "text/plain": [
       "Text(0.5, 1.0, 'Identificación de Datos Faltantes y Atípicos')"
      ]
     },
     "execution_count": 29,
     "metadata": {},
     "output_type": "execute_result"
    },
    {
     "data": {
      "image/png": "[encoded data removed]",
      "text/plain": [
       "<Figure size 600x300 with 1 Axes>"
      ]
     },
     "metadata": {},
     "output_type": "display_data"
    }
   ],
   "source": [
    "plt.figure(figsize=(6, 3))\n",
    "sns.boxplot(x=df['Annual Income (k$)'])\n",
    "plt.title('Identificación de Datos Faltantes y Atípicos', fontsize=10 )"
   ]
  },
  {
   "cell_type": "markdown",
   "id": "abc6150f-7901-4fa0-ae65-4d54b7f2c7e8",
   "metadata": {},
   "source": [
    "2. Preprocesar los datos limpiándolos, tratando valores faltantes y transformándolos según sea necesario.  "
   ]
  },
  {
   "cell_type": "code",
   "execution_count": 33,
   "id": "e0ee6adf-22d9-43f9-8fb2-28b3feab70c3",
   "metadata": {},
   "outputs": [
    {
     "name": "stdout",
     "output_type": "stream",
     "text": [
      "CustomerID                0\n",
      "Gender                    0\n",
      "Age                       0\n",
      "Annual Income (k$)        0\n",
      "Spending Score (1-100)    0\n",
      "dtype: int64\n"
     ]
    }
   ],
   "source": [
    "# Identificar columnas con datos faltantes\n",
    "print(df.isnull().sum())"
   ]
  },
  {
   "cell_type": "markdown",
   "id": "b826bb80-2081-4ff2-b509-f963961f24f2",
   "metadata": {},
   "source": [
    "No se encontraron datos faltantes"
   ]
  },
  {
   "cell_type": "code",
   "execution_count": 38,
   "id": "6bc4f22a-307b-420b-ab10-9089ab13ed35",
   "metadata": {},
   "outputs": [],
   "source": [
    "# Reemplazar valores de genero a numericos\n",
    "df['Gender'] = df['Gender'].replace({'Male': 0, 'Female': 1})"
   ]
  },
  {
   "cell_type": "code",
   "execution_count": 41,
   "id": "8893d58b-98d1-4456-97c8-16d11a393731",
   "metadata": {},
   "outputs": [],
   "source": [
    "# Reemplazar todos los ceros con el valor medio (promedio) \n",
    "df['Annual Income (k$)']=df['Annual Income (k$)'].replace(0,df['Annual Income (k$)'].mean())"
   ]
  },
  {
   "cell_type": "code",
   "execution_count": 43,
   "id": "ec347c03-1a81-4a20-98b8-b7d5262594d6",
   "metadata": {},
   "outputs": [
    {
     "name": "stdout",
     "output_type": "stream",
     "text": [
      "El total de datos atípicos es 14\n"
     ]
    }
   ],
   "source": [
    "#Conteo de Datos Atípicos\n",
    "nivel_minimo=0\n",
    "nivel_maximo=100\n",
    "Total_Atipicos=((df['Annual Income (k$)']<nivel_minimo)|(df['Annual Income (k$)']>nivel_maximo)).sum()\n",
    "print(\"El total de datos atípicos es {}\".format(Total_Atipicos))"
   ]
  },
  {
   "cell_type": "code",
   "execution_count": 45,
   "id": "f9c48dc4-b9df-4142-ac80-e95c8108e9c0",
   "metadata": {},
   "outputs": [],
   "source": [
    "# Filtra Datos Atípicos\n",
    "\n",
    "df=df[(df['Annual Income (k$)']<nivel_maximo)&(df['Annual Income (k$)']>nivel_minimo)]"
   ]
  },
  {
   "cell_type": "code",
   "execution_count": 47,
   "id": "66ab971b-e06b-4778-a5a9-74c9f6b8b7fd",
   "metadata": {},
   "outputs": [
    {
     "name": "stdout",
     "output_type": "stream",
     "text": [
      "   CustomerID  Gender  Age  Annual Income (k$)  Spending Score (1-100)\n",
      "0           1       0   19                  15                      39\n",
      "1           2       0   21                  15                      81\n",
      "2           3       1   20                  16                       6\n",
      "3           4       1   23                  16                      77\n",
      "4           5       1   31                  17                      40\n"
     ]
    }
   ],
   "source": [
    "# Verificar los resultados\n",
    "print(df.head())"
   ]
  },
  {
   "cell_type": "code",
   "execution_count": 51,
   "id": "20207a82-259f-4202-8793-855c6d8607ed",
   "metadata": {},
   "outputs": [
    {
     "name": "stdout",
     "output_type": "stream",
     "text": [
      "<class 'pandas.core.frame.DataFrame'>\n",
      "Index: 186 entries, 0 to 185\n",
      "Data columns (total 5 columns):\n",
      " #   Column                  Non-Null Count  Dtype\n",
      "---  ------                  --------------  -----\n",
      " 0   CustomerID              186 non-null    int64\n",
      " 1   Gender                  186 non-null    int64\n",
      " 2   Age                     186 non-null    int64\n",
      " 3   Annual Income (k$)      186 non-null    int64\n",
      " 4   Spending Score (1-100)  186 non-null    int64\n",
      "dtypes: int64(5)\n",
      "memory usage: 8.7 KB\n"
     ]
    }
   ],
   "source": [
    "#Revisión del tipo de datos y datos faltantes\n",
    "\n",
    "df.info()"
   ]
  },
  {
   "cell_type": "markdown",
   "id": "88b4bd3b-a294-42d4-9614-edcc0bff9994",
   "metadata": {},
   "source": [
    "3. Seleccionar las características más relevantes para entrenar el  modelo utilizando selección de características. "
   ]
  },
  {
   "cell_type": "markdown",
   "id": "dbee366d-908f-4c74-9ade-472795d753f7",
   "metadata": {},
   "source": [
    "* Age: Puede influir en los hábitos de consumo.\n",
    "* Annual Income (k$): Determina la capacidad adquisitiva del cliente.\n",
    "* Spending Score (1-100): Refleja el comportamiento real de gasto."
   ]
  },
  {
   "cell_type": "code",
   "execution_count": 54,
   "id": "1ee942bc-11d8-48d2-8f1e-e13576331f40",
   "metadata": {},
   "outputs": [],
   "source": [
    "# Filtrar columnas del modelo \n",
    "df = df[[\"Age\",\"Annual Income (k$)\",\"Spending Score (1-100)\"]]"
   ]
  },
  {
   "cell_type": "code",
   "execution_count": 56,
   "id": "f0f1d220-6258-48b1-af93-f9fa1a514a82",
   "metadata": {},
   "outputs": [
    {
     "data": {
      "text/html": [
       "<div>\n",
       "<style scoped>\n",
       "    .dataframe tbody tr th:only-of-type {\n",
       "        vertical-align: middle;\n",
       "    }\n",
       "\n",
       "    .dataframe tbody tr th {\n",
       "        vertical-align: top;\n",
       "    }\n",
       "\n",
       "    .dataframe thead th {\n",
       "        text-align: right;\n",
       "    }\n",
       "</style>\n",
       "<table border=\"1\" class=\"dataframe\">\n",
       "  <thead>\n",
       "    <tr style=\"text-align: right;\">\n",
       "      <th></th>\n",
       "      <th>Age</th>\n",
       "      <th>Annual Income (k$)</th>\n",
       "      <th>Spending Score (1-100)</th>\n",
       "    </tr>\n",
       "  </thead>\n",
       "  <tbody>\n",
       "    <tr>\n",
       "      <th>0</th>\n",
       "      <td>19</td>\n",
       "      <td>15</td>\n",
       "      <td>39</td>\n",
       "    </tr>\n",
       "    <tr>\n",
       "      <th>1</th>\n",
       "      <td>21</td>\n",
       "      <td>15</td>\n",
       "      <td>81</td>\n",
       "    </tr>\n",
       "    <tr>\n",
       "      <th>2</th>\n",
       "      <td>20</td>\n",
       "      <td>16</td>\n",
       "      <td>6</td>\n",
       "    </tr>\n",
       "    <tr>\n",
       "      <th>3</th>\n",
       "      <td>23</td>\n",
       "      <td>16</td>\n",
       "      <td>77</td>\n",
       "    </tr>\n",
       "    <tr>\n",
       "      <th>4</th>\n",
       "      <td>31</td>\n",
       "      <td>17</td>\n",
       "      <td>40</td>\n",
       "    </tr>\n",
       "    <tr>\n",
       "      <th>5</th>\n",
       "      <td>22</td>\n",
       "      <td>17</td>\n",
       "      <td>76</td>\n",
       "    </tr>\n",
       "    <tr>\n",
       "      <th>6</th>\n",
       "      <td>35</td>\n",
       "      <td>18</td>\n",
       "      <td>6</td>\n",
       "    </tr>\n",
       "    <tr>\n",
       "      <th>7</th>\n",
       "      <td>23</td>\n",
       "      <td>18</td>\n",
       "      <td>94</td>\n",
       "    </tr>\n",
       "    <tr>\n",
       "      <th>8</th>\n",
       "      <td>64</td>\n",
       "      <td>19</td>\n",
       "      <td>3</td>\n",
       "    </tr>\n",
       "    <tr>\n",
       "      <th>9</th>\n",
       "      <td>30</td>\n",
       "      <td>19</td>\n",
       "      <td>72</td>\n",
       "    </tr>\n",
       "    <tr>\n",
       "      <th>10</th>\n",
       "      <td>67</td>\n",
       "      <td>19</td>\n",
       "      <td>14</td>\n",
       "    </tr>\n",
       "    <tr>\n",
       "      <th>11</th>\n",
       "      <td>35</td>\n",
       "      <td>19</td>\n",
       "      <td>99</td>\n",
       "    </tr>\n",
       "    <tr>\n",
       "      <th>12</th>\n",
       "      <td>58</td>\n",
       "      <td>20</td>\n",
       "      <td>15</td>\n",
       "    </tr>\n",
       "    <tr>\n",
       "      <th>13</th>\n",
       "      <td>24</td>\n",
       "      <td>20</td>\n",
       "      <td>77</td>\n",
       "    </tr>\n",
       "    <tr>\n",
       "      <th>14</th>\n",
       "      <td>37</td>\n",
       "      <td>20</td>\n",
       "      <td>13</td>\n",
       "    </tr>\n",
       "    <tr>\n",
       "      <th>15</th>\n",
       "      <td>22</td>\n",
       "      <td>20</td>\n",
       "      <td>79</td>\n",
       "    </tr>\n",
       "    <tr>\n",
       "      <th>16</th>\n",
       "      <td>35</td>\n",
       "      <td>21</td>\n",
       "      <td>35</td>\n",
       "    </tr>\n",
       "    <tr>\n",
       "      <th>17</th>\n",
       "      <td>20</td>\n",
       "      <td>21</td>\n",
       "      <td>66</td>\n",
       "    </tr>\n",
       "    <tr>\n",
       "      <th>18</th>\n",
       "      <td>52</td>\n",
       "      <td>23</td>\n",
       "      <td>29</td>\n",
       "    </tr>\n",
       "    <tr>\n",
       "      <th>19</th>\n",
       "      <td>35</td>\n",
       "      <td>23</td>\n",
       "      <td>98</td>\n",
       "    </tr>\n",
       "    <tr>\n",
       "      <th>20</th>\n",
       "      <td>35</td>\n",
       "      <td>24</td>\n",
       "      <td>35</td>\n",
       "    </tr>\n",
       "    <tr>\n",
       "      <th>21</th>\n",
       "      <td>25</td>\n",
       "      <td>24</td>\n",
       "      <td>73</td>\n",
       "    </tr>\n",
       "    <tr>\n",
       "      <th>22</th>\n",
       "      <td>46</td>\n",
       "      <td>25</td>\n",
       "      <td>5</td>\n",
       "    </tr>\n",
       "    <tr>\n",
       "      <th>23</th>\n",
       "      <td>31</td>\n",
       "      <td>25</td>\n",
       "      <td>73</td>\n",
       "    </tr>\n",
       "    <tr>\n",
       "      <th>24</th>\n",
       "      <td>54</td>\n",
       "      <td>28</td>\n",
       "      <td>14</td>\n",
       "    </tr>\n",
       "    <tr>\n",
       "      <th>25</th>\n",
       "      <td>29</td>\n",
       "      <td>28</td>\n",
       "      <td>82</td>\n",
       "    </tr>\n",
       "    <tr>\n",
       "      <th>26</th>\n",
       "      <td>45</td>\n",
       "      <td>28</td>\n",
       "      <td>32</td>\n",
       "    </tr>\n",
       "    <tr>\n",
       "      <th>27</th>\n",
       "      <td>35</td>\n",
       "      <td>28</td>\n",
       "      <td>61</td>\n",
       "    </tr>\n",
       "    <tr>\n",
       "      <th>28</th>\n",
       "      <td>40</td>\n",
       "      <td>29</td>\n",
       "      <td>31</td>\n",
       "    </tr>\n",
       "    <tr>\n",
       "      <th>29</th>\n",
       "      <td>23</td>\n",
       "      <td>29</td>\n",
       "      <td>87</td>\n",
       "    </tr>\n",
       "    <tr>\n",
       "      <th>30</th>\n",
       "      <td>60</td>\n",
       "      <td>30</td>\n",
       "      <td>4</td>\n",
       "    </tr>\n",
       "    <tr>\n",
       "      <th>31</th>\n",
       "      <td>21</td>\n",
       "      <td>30</td>\n",
       "      <td>73</td>\n",
       "    </tr>\n",
       "    <tr>\n",
       "      <th>32</th>\n",
       "      <td>53</td>\n",
       "      <td>33</td>\n",
       "      <td>4</td>\n",
       "    </tr>\n",
       "    <tr>\n",
       "      <th>33</th>\n",
       "      <td>18</td>\n",
       "      <td>33</td>\n",
       "      <td>92</td>\n",
       "    </tr>\n",
       "    <tr>\n",
       "      <th>34</th>\n",
       "      <td>49</td>\n",
       "      <td>33</td>\n",
       "      <td>14</td>\n",
       "    </tr>\n",
       "    <tr>\n",
       "      <th>35</th>\n",
       "      <td>21</td>\n",
       "      <td>33</td>\n",
       "      <td>81</td>\n",
       "    </tr>\n",
       "    <tr>\n",
       "      <th>36</th>\n",
       "      <td>42</td>\n",
       "      <td>34</td>\n",
       "      <td>17</td>\n",
       "    </tr>\n",
       "    <tr>\n",
       "      <th>37</th>\n",
       "      <td>30</td>\n",
       "      <td>34</td>\n",
       "      <td>73</td>\n",
       "    </tr>\n",
       "    <tr>\n",
       "      <th>38</th>\n",
       "      <td>36</td>\n",
       "      <td>37</td>\n",
       "      <td>26</td>\n",
       "    </tr>\n",
       "    <tr>\n",
       "      <th>39</th>\n",
       "      <td>20</td>\n",
       "      <td>37</td>\n",
       "      <td>75</td>\n",
       "    </tr>\n",
       "  </tbody>\n",
       "</table>\n",
       "</div>"
      ],
      "text/plain": [
       "    Age  Annual Income (k$)  Spending Score (1-100)\n",
       "0    19                  15                      39\n",
       "1    21                  15                      81\n",
       "2    20                  16                       6\n",
       "3    23                  16                      77\n",
       "4    31                  17                      40\n",
       "5    22                  17                      76\n",
       "6    35                  18                       6\n",
       "7    23                  18                      94\n",
       "8    64                  19                       3\n",
       "9    30                  19                      72\n",
       "10   67                  19                      14\n",
       "11   35                  19                      99\n",
       "12   58                  20                      15\n",
       "13   24                  20                      77\n",
       "14   37                  20                      13\n",
       "15   22                  20                      79\n",
       "16   35                  21                      35\n",
       "17   20                  21                      66\n",
       "18   52                  23                      29\n",
       "19   35                  23                      98\n",
       "20   35                  24                      35\n",
       "21   25                  24                      73\n",
       "22   46                  25                       5\n",
       "23   31                  25                      73\n",
       "24   54                  28                      14\n",
       "25   29                  28                      82\n",
       "26   45                  28                      32\n",
       "27   35                  28                      61\n",
       "28   40                  29                      31\n",
       "29   23                  29                      87\n",
       "30   60                  30                       4\n",
       "31   21                  30                      73\n",
       "32   53                  33                       4\n",
       "33   18                  33                      92\n",
       "34   49                  33                      14\n",
       "35   21                  33                      81\n",
       "36   42                  34                      17\n",
       "37   30                  34                      73\n",
       "38   36                  37                      26\n",
       "39   20                  37                      75"
      ]
     },
     "execution_count": 56,
     "metadata": {},
     "output_type": "execute_result"
    }
   ],
   "source": [
    "df.head(40)"
   ]
  },
  {
   "cell_type": "code",
   "execution_count": 60,
   "id": "6c99a10a-7a8f-46fd-9001-3b041012c790",
   "metadata": {},
   "outputs": [
    {
     "data": {
      "image/png": "[encoded data removed]",
      "text/plain": [
       "<Figure size 640x480 with 1 Axes>"
      ]
     },
     "metadata": {},
     "output_type": "display_data"
    }
   ],
   "source": [
    "plt.scatter(df['Annual Income (k$)'], df['Spending Score (1-100)'])\n",
    "plt.xlabel('Ingresos anuales')\n",
    "plt.ylabel('Puntuacion de gastos')\n",
    "plt.title('Distribucion de ingresos y gastos de los clientes segun su edad')\n",
    "plt.show()"
   ]
  },
  {
   "cell_type": "markdown",
   "id": "483fefd2-aa14-4f25-9043-78b13ffc01fc",
   "metadata": {},
   "source": [
    "4. Entrenar el modelo configurando los diferentes hiperparámetros. "
   ]
  },
  {
   "cell_type": "code",
   "execution_count": 67,
   "id": "191a8edf-e253-4316-868d-9eef635fe374",
   "metadata": {},
   "outputs": [],
   "source": [
    "scaler = StandardScaler()\n",
    "scaled_data = scaler.fit_transform(df[['Age', 'Annual Income (k$)', 'Spending Score (1-100)']])"
   ]
  },
  {
   "cell_type": "code",
   "execution_count": 69,
   "id": "dd296500-3d74-4ad3-9b9a-1897592bd84b",
   "metadata": {},
   "outputs": [
    {
     "data": {
      "image/png": "[encoded data removed]",
      "text/plain": [
       "<Figure size 1000x700 with 1 Axes>"
      ]
     },
     "metadata": {},
     "output_type": "display_data"
    }
   ],
   "source": [
    "# Check for and handle non-finite values in scaled_data\n",
    "scaled_data = np.nan_to_num(scaled_data)  # Reemplaza valores NaN, inf y -inf con valores finitos\n",
    "\n",
    "# Continue with hierarchical clustering\n",
    "linked = linkage(scaled_data, method='ward') # Realiza el enlace jerárquico con el método de Ward\n",
    "\n",
    "plt.figure(figsize=(10, 7))\n",
    "dendrogram(linked, orientation='top', distance_sort='descending', show_leaf_counts=False) # Dibuja el dendrograma\n",
    "plt.title('Dendrograma para Clustering Jerárquico')\n",
    "plt.xlabel('Muestras')\n",
    "plt.ylabel('Distancia')\n",
    "plt.show()"
   ]
  },
  {
   "cell_type": "markdown",
   "id": "6744e3ce-885e-4042-9dbf-99043bae07a9",
   "metadata": {},
   "source": [
    " 5. Evaluar el desempeño del modelo con métricas como Coeficiente de Silhouette, Índice de Calinski-Harabasz, etc. "
   ]
  },
  {
   "cell_type": "code",
   "execution_count": 73,
   "id": "aed6c79c-0616-414b-b6be-65b44703e03d",
   "metadata": {},
   "outputs": [
    {
     "name": "stdout",
     "output_type": "stream",
     "text": [
      "Coeficiente de Silhouette: 0.33213815748086906\n",
      "Índice de Calinski-Harabasz: 84.90139875046562\n",
      "Índice de Davies-Bouldin: 1.1305024940373656\n"
     ]
    }
   ],
   "source": [
    "df[['Age', 'Annual Income (k$)', 'Spending Score (1-100)']] = df[['Age', 'Annual Income (k$)', 'Spending Score (1-100)']].fillna(df[['Age', 'Annual Income (k$)', 'Spending Score (1-100)']].mean())\n",
    "\n",
    "# Preprocesamiento de los datos\n",
    "scaler = StandardScaler()\n",
    "scaled_data = scaler.fit_transform(df[['Age', 'Annual Income (k$)', 'Spending Score (1-100)']])  \n",
    "\n",
    "# Entrenamiento del modelo de Clustering Jerárquico\n",
    "model = AgglomerativeClustering(n_clusters=3, linkage='ward')  \n",
    "labels = model.fit_predict(scaled_data)\n",
    "\n",
    "# Evaluación del modelo\n",
    "\n",
    "# Coeficiente de Silhouette\n",
    "sil_score = silhouette_score(scaled_data, labels)\n",
    "print(f\"Coeficiente de Silhouette: {sil_score}\")\n",
    "\n",
    "# Índice de Calinski-Harabasz\n",
    "ch_score = calinski_harabasz_score(scaled_data, labels)\n",
    "print(f\"Índice de Calinski-Harabasz: {ch_score}\")\n",
    "\n",
    "# Índice de Davies-Bouldin\n",
    "db_score = davies_bouldin_score(scaled_data, labels)\n",
    "print(f\"Índice de Davies-Bouldin: {db_score}\")"
   ]
  },
  {
   "cell_type": "markdown",
   "id": "ccc6a604-9adf-45ed-9baf-69239c5c56ad",
   "metadata": {},
   "source": [
    "6. Realizar las diferentes gráficas que permitan visualizar los \n",
    "resultados del modelo "
   ]
  },
  {
   "cell_type": "markdown",
   "id": "dc55558d-924e-43ed-b877-20593618f72b",
   "metadata": {},
   "source": [
    "* Gráfico de Dispersión para Visualización de Clusters"
   ]
  },
  {
   "cell_type": "code",
   "execution_count": 104,
   "id": "5ed64d4d-239b-4b67-b353-a3029ab0a60d",
   "metadata": {},
   "outputs": [
    {
     "data": {
      "image/png": "[encoded data removed]",
      "text/plain": [
       "<Figure size 800x600 with 1 Axes>"
      ]
     },
     "metadata": {},
     "output_type": "display_data"
    }
   ],
   "source": [
    "from sklearn.cluster import AgglomerativeClustering\n",
    "import matplotlib.pyplot as plt\n",
    "\n",
    "# Aplicar el modelo de clustering jerárquico\n",
    "model = AgglomerativeClustering(n_clusters=4)  # Ajustar el número de clusters\n",
    "df['Cluster'] = model.fit_predict(scaled_data)\n",
    "# Graficar los clusters\n",
    "plt.figure(figsize=(8, 6))\n",
    "plt.scatter(df['Spending Score (1-100)'], df['Age'], c=df['Cluster'], cmap='viridis')\n",
    "plt.title('Clusters Identificados con Clustering Jerárquico')\n",
    "plt.xlabel('Puntaje de gasto')\n",
    "plt.ylabel('Edad')\n",
    "plt.show()"
   ]
  },
  {
   "cell_type": "markdown",
   "id": "b35a395b-2436-4827-971b-047fbe5829ed",
   "metadata": {},
   "source": [
    "Aqui podemos observar el puntaje de gasto que tienen las personas por su edad"
   ]
  },
  {
   "cell_type": "markdown",
   "id": "8f7811c3-5582-4e9f-8f41-255056418cea",
   "metadata": {},
   "source": [
    "* Gráfico de Silueta"
   ]
  },
  {
   "cell_type": "code",
   "execution_count": 109,
   "id": "60570a49-e124-4a12-9364-1485a4d528b8",
   "metadata": {},
   "outputs": [
    {
     "name": "stdout",
     "output_type": "stream",
     "text": [
      "Silhouette Score: 0.384942917114684\n"
     ]
    },
    {
     "data": {
      "image/png": "[encoded data removed]",
      "text/plain": [
       "<Figure size 1000x700 with 1 Axes>"
      ]
     },
     "metadata": {},
     "output_type": "display_data"
    }
   ],
   "source": [
    "from sklearn.metrics import silhouette_samples, silhouette_score\n",
    "import matplotlib.pyplot as plt\n",
    "\n",
    "# Calcular la silueta\n",
    "silhouette_avg = silhouette_score(scaled_data, model.labels_)\n",
    "print(f'Silhouette Score: {silhouette_avg}')\n",
    "\n",
    "# Mostrar el gráfico de silueta\n",
    "sample_silhouette_values = silhouette_samples(scaled_data, model.labels_)\n",
    "fig, ax = plt.subplots(figsize=(10, 7))\n",
    "\n",
    "ax.plot(sample_silhouette_values, 'bo')\n",
    "ax.axvline(x=silhouette_avg, color=\"red\", linestyle=\"--\")\n",
    "ax.set_title(\"Gráfico de Silueta para Clustering Jerárquico\")\n",
    "ax.set_xlabel(\"Valor de Silueta\")\n",
    "ax.set_ylabel(\"Muestras\")\n",
    "plt.show()"
   ]
  },
  {
   "cell_type": "markdown",
   "id": "001afa9f-ee64-4c62-adff-448849e5f638",
   "metadata": {},
   "source": [
    "7. Interpretar, analizar y documentar los resultados obtenidos"
   ]
  },
  {
   "cell_type": "markdown",
   "id": "1dcba7ca-6cfa-4925-a526-682393858232",
   "metadata": {},
   "source": [
    "En esta actividad /ejercicio hicimos el mismo procedimiento que en k-means limpiamos, encontramos datos atípicos, cambiamos el valor del género a uno numérico, pero implementamos el agrupamiento hierrachical y pudimos obtener la siguiente información. \n",
    "\n",
    "* El porcentaje de gasto influye más en la edad que en el ingreso anual ya que sin duda los jóvenes entre 20 a 30 gastan más de lo necesario, esto lo supimos gracias a las gráficas de clousters\n",
    "  \n",
    "* En el gráfico de silueta las Silhouettes están mas agrupadas y cercanas a +1, eso nos indica que la mayoría de los puntos están correctamente asignados a su cluster y que los clusters están bien separados\n",
    "  \n",
    "* Un valor de 0.3321 de Coeficiente de Silhouette indica que los clusters no están tan bien separados pero no mucho aunque podemos destacar que los puntos dentro de cada cluster están algo agrupados prácticamente este valor indica que la calidad del clustering es moderada.\n",
    "  \n",
    "* El índice de Calinski-Harabasz es de 84.90 es bastante bajo, lo que indica que los clusters no son tan compactos ni tan bien separados como sería ideal por lo general, valores más altos (por encima de 300) suelen sugerir una segmentación más efectiva que la obtenida\n",
    "  \n",
    "* Davies-Bouldin de 1.1305 indica que los clusters no son perfectamente separados, pero tampoco son excesivamente dispersos o solapados por lo que están aceptablesles\r\n"
   ]
  }
 ],
 "metadata": {
  "kernelspec": {
   "display_name": "Python 3 (ipykernel)",
   "language": "python",
   "name": "python3"
  },
  "language_info": {
   "codemirror_mode": {
    "name": "ipython",
    "version": 3
   },
   "file_extension": ".py",
   "mimetype": "text/x-python",
   "name": "python",
   "nbconvert_exporter": "python",
   "pygments_lexer": "ipython3",
   "version": "3.12.4"
  }
 },
 "nbformat": 4,
 "nbformat_minor": 5
}
